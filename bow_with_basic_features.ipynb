{
  "cells": [
    {
      "cell_type": "markdown",
      "metadata": {
        "id": "view-in-github",
        "colab_type": "text"
      },
      "source": [
        "<a href=\"https://colab.research.google.com/github/Rajfekar/PythonML/blob/main/bow_with_basic_features.ipynb\" target=\"_parent\"><img src=\"https://colab.research.google.com/assets/colab-badge.svg\" alt=\"Open In Colab\"/></a>"
      ]
    },
    {
      "cell_type": "code",
      "execution_count": null,
      "id": "a9e3b5c6",
      "metadata": {
        "id": "a9e3b5c6"
      },
      "outputs": [],
      "source": [
        "import numpy as np\n",
        "import pandas as pd\n",
        "import matplotlib.pyplot as plt\n",
        "import seaborn as sns\n",
        "\n",
        "import warnings\n",
        "warnings.filterwarnings('ignore')"
      ]
    },
    {
      "cell_type": "code",
      "execution_count": null,
      "id": "2bf7a14b",
      "metadata": {
        "colab": {
          "base_uri": "https://localhost:8080/",
          "height": 311
        },
        "id": "2bf7a14b",
        "outputId": "70c4b65b-8c7d-41f1-d84c-039781e25c12"
      },
      "outputs": [
        {
          "output_type": "error",
          "ename": "FileNotFoundError",
          "evalue": "[Errno 2] No such file or directory: '/content/q_quora.csv'",
          "traceback": [
            "\u001b[0;31m---------------------------------------------------------------------------\u001b[0m",
            "\u001b[0;31mFileNotFoundError\u001b[0m                         Traceback (most recent call last)",
            "\u001b[0;32m<ipython-input-5-c07537e9d75f>\u001b[0m in \u001b[0;36m<cell line: 0>\u001b[0;34m()\u001b[0m\n\u001b[0;32m----> 1\u001b[0;31m \u001b[0mdf\u001b[0m \u001b[0;34m=\u001b[0m \u001b[0mpd\u001b[0m\u001b[0;34m.\u001b[0m\u001b[0mread_csv\u001b[0m\u001b[0;34m(\u001b[0m\u001b[0;34m'/content/q_quora.csv'\u001b[0m\u001b[0;34m)\u001b[0m\u001b[0;34m\u001b[0m\u001b[0;34m\u001b[0m\u001b[0m\n\u001b[0m",
            "\u001b[0;32m/usr/local/lib/python3.11/dist-packages/pandas/io/parsers/readers.py\u001b[0m in \u001b[0;36mread_csv\u001b[0;34m(filepath_or_buffer, sep, delimiter, header, names, index_col, usecols, dtype, engine, converters, true_values, false_values, skipinitialspace, skiprows, skipfooter, nrows, na_values, keep_default_na, na_filter, verbose, skip_blank_lines, parse_dates, infer_datetime_format, keep_date_col, date_parser, date_format, dayfirst, cache_dates, iterator, chunksize, compression, thousands, decimal, lineterminator, quotechar, quoting, doublequote, escapechar, comment, encoding, encoding_errors, dialect, on_bad_lines, delim_whitespace, low_memory, memory_map, float_precision, storage_options, dtype_backend)\u001b[0m\n\u001b[1;32m   1024\u001b[0m     \u001b[0mkwds\u001b[0m\u001b[0;34m.\u001b[0m\u001b[0mupdate\u001b[0m\u001b[0;34m(\u001b[0m\u001b[0mkwds_defaults\u001b[0m\u001b[0;34m)\u001b[0m\u001b[0;34m\u001b[0m\u001b[0;34m\u001b[0m\u001b[0m\n\u001b[1;32m   1025\u001b[0m \u001b[0;34m\u001b[0m\u001b[0m\n\u001b[0;32m-> 1026\u001b[0;31m     \u001b[0;32mreturn\u001b[0m \u001b[0m_read\u001b[0m\u001b[0;34m(\u001b[0m\u001b[0mfilepath_or_buffer\u001b[0m\u001b[0;34m,\u001b[0m \u001b[0mkwds\u001b[0m\u001b[0;34m)\u001b[0m\u001b[0;34m\u001b[0m\u001b[0;34m\u001b[0m\u001b[0m\n\u001b[0m\u001b[1;32m   1027\u001b[0m \u001b[0;34m\u001b[0m\u001b[0m\n\u001b[1;32m   1028\u001b[0m \u001b[0;34m\u001b[0m\u001b[0m\n",
            "\u001b[0;32m/usr/local/lib/python3.11/dist-packages/pandas/io/parsers/readers.py\u001b[0m in \u001b[0;36m_read\u001b[0;34m(filepath_or_buffer, kwds)\u001b[0m\n\u001b[1;32m    618\u001b[0m \u001b[0;34m\u001b[0m\u001b[0m\n\u001b[1;32m    619\u001b[0m     \u001b[0;31m# Create the parser.\u001b[0m\u001b[0;34m\u001b[0m\u001b[0;34m\u001b[0m\u001b[0m\n\u001b[0;32m--> 620\u001b[0;31m     \u001b[0mparser\u001b[0m \u001b[0;34m=\u001b[0m \u001b[0mTextFileReader\u001b[0m\u001b[0;34m(\u001b[0m\u001b[0mfilepath_or_buffer\u001b[0m\u001b[0;34m,\u001b[0m \u001b[0;34m**\u001b[0m\u001b[0mkwds\u001b[0m\u001b[0;34m)\u001b[0m\u001b[0;34m\u001b[0m\u001b[0;34m\u001b[0m\u001b[0m\n\u001b[0m\u001b[1;32m    621\u001b[0m \u001b[0;34m\u001b[0m\u001b[0m\n\u001b[1;32m    622\u001b[0m     \u001b[0;32mif\u001b[0m \u001b[0mchunksize\u001b[0m \u001b[0;32mor\u001b[0m \u001b[0miterator\u001b[0m\u001b[0;34m:\u001b[0m\u001b[0;34m\u001b[0m\u001b[0;34m\u001b[0m\u001b[0m\n",
            "\u001b[0;32m/usr/local/lib/python3.11/dist-packages/pandas/io/parsers/readers.py\u001b[0m in \u001b[0;36m__init__\u001b[0;34m(self, f, engine, **kwds)\u001b[0m\n\u001b[1;32m   1618\u001b[0m \u001b[0;34m\u001b[0m\u001b[0m\n\u001b[1;32m   1619\u001b[0m         \u001b[0mself\u001b[0m\u001b[0;34m.\u001b[0m\u001b[0mhandles\u001b[0m\u001b[0;34m:\u001b[0m \u001b[0mIOHandles\u001b[0m \u001b[0;34m|\u001b[0m \u001b[0;32mNone\u001b[0m \u001b[0;34m=\u001b[0m \u001b[0;32mNone\u001b[0m\u001b[0;34m\u001b[0m\u001b[0;34m\u001b[0m\u001b[0m\n\u001b[0;32m-> 1620\u001b[0;31m         \u001b[0mself\u001b[0m\u001b[0;34m.\u001b[0m\u001b[0m_engine\u001b[0m \u001b[0;34m=\u001b[0m \u001b[0mself\u001b[0m\u001b[0;34m.\u001b[0m\u001b[0m_make_engine\u001b[0m\u001b[0;34m(\u001b[0m\u001b[0mf\u001b[0m\u001b[0;34m,\u001b[0m \u001b[0mself\u001b[0m\u001b[0;34m.\u001b[0m\u001b[0mengine\u001b[0m\u001b[0;34m)\u001b[0m\u001b[0;34m\u001b[0m\u001b[0;34m\u001b[0m\u001b[0m\n\u001b[0m\u001b[1;32m   1621\u001b[0m \u001b[0;34m\u001b[0m\u001b[0m\n\u001b[1;32m   1622\u001b[0m     \u001b[0;32mdef\u001b[0m \u001b[0mclose\u001b[0m\u001b[0;34m(\u001b[0m\u001b[0mself\u001b[0m\u001b[0;34m)\u001b[0m \u001b[0;34m->\u001b[0m \u001b[0;32mNone\u001b[0m\u001b[0;34m:\u001b[0m\u001b[0;34m\u001b[0m\u001b[0;34m\u001b[0m\u001b[0m\n",
            "\u001b[0;32m/usr/local/lib/python3.11/dist-packages/pandas/io/parsers/readers.py\u001b[0m in \u001b[0;36m_make_engine\u001b[0;34m(self, f, engine)\u001b[0m\n\u001b[1;32m   1878\u001b[0m                 \u001b[0;32mif\u001b[0m \u001b[0;34m\"b\"\u001b[0m \u001b[0;32mnot\u001b[0m \u001b[0;32min\u001b[0m \u001b[0mmode\u001b[0m\u001b[0;34m:\u001b[0m\u001b[0;34m\u001b[0m\u001b[0;34m\u001b[0m\u001b[0m\n\u001b[1;32m   1879\u001b[0m                     \u001b[0mmode\u001b[0m \u001b[0;34m+=\u001b[0m \u001b[0;34m\"b\"\u001b[0m\u001b[0;34m\u001b[0m\u001b[0;34m\u001b[0m\u001b[0m\n\u001b[0;32m-> 1880\u001b[0;31m             self.handles = get_handle(\n\u001b[0m\u001b[1;32m   1881\u001b[0m                 \u001b[0mf\u001b[0m\u001b[0;34m,\u001b[0m\u001b[0;34m\u001b[0m\u001b[0;34m\u001b[0m\u001b[0m\n\u001b[1;32m   1882\u001b[0m                 \u001b[0mmode\u001b[0m\u001b[0;34m,\u001b[0m\u001b[0;34m\u001b[0m\u001b[0;34m\u001b[0m\u001b[0m\n",
            "\u001b[0;32m/usr/local/lib/python3.11/dist-packages/pandas/io/common.py\u001b[0m in \u001b[0;36mget_handle\u001b[0;34m(path_or_buf, mode, encoding, compression, memory_map, is_text, errors, storage_options)\u001b[0m\n\u001b[1;32m    871\u001b[0m         \u001b[0;32mif\u001b[0m \u001b[0mioargs\u001b[0m\u001b[0;34m.\u001b[0m\u001b[0mencoding\u001b[0m \u001b[0;32mand\u001b[0m \u001b[0;34m\"b\"\u001b[0m \u001b[0;32mnot\u001b[0m \u001b[0;32min\u001b[0m \u001b[0mioargs\u001b[0m\u001b[0;34m.\u001b[0m\u001b[0mmode\u001b[0m\u001b[0;34m:\u001b[0m\u001b[0;34m\u001b[0m\u001b[0;34m\u001b[0m\u001b[0m\n\u001b[1;32m    872\u001b[0m             \u001b[0;31m# Encoding\u001b[0m\u001b[0;34m\u001b[0m\u001b[0;34m\u001b[0m\u001b[0m\n\u001b[0;32m--> 873\u001b[0;31m             handle = open(\n\u001b[0m\u001b[1;32m    874\u001b[0m                 \u001b[0mhandle\u001b[0m\u001b[0;34m,\u001b[0m\u001b[0;34m\u001b[0m\u001b[0;34m\u001b[0m\u001b[0m\n\u001b[1;32m    875\u001b[0m                 \u001b[0mioargs\u001b[0m\u001b[0;34m.\u001b[0m\u001b[0mmode\u001b[0m\u001b[0;34m,\u001b[0m\u001b[0;34m\u001b[0m\u001b[0;34m\u001b[0m\u001b[0m\n",
            "\u001b[0;31mFileNotFoundError\u001b[0m: [Errno 2] No such file or directory: '/content/q_quora.csv'"
          ]
        }
      ],
      "source": [
        "df = pd.read_csv('/content/q_quora.csv')"
      ]
    },
    {
      "cell_type": "code",
      "execution_count": null,
      "id": "cc36984b",
      "metadata": {
        "id": "cc36984b"
      },
      "outputs": [],
      "source": [
        "df.shape"
      ]
    },
    {
      "cell_type": "code",
      "execution_count": null,
      "id": "fbbaf6ba",
      "metadata": {
        "id": "fbbaf6ba"
      },
      "outputs": [],
      "source": [
        "df.head()"
      ]
    },
    {
      "cell_type": "code",
      "execution_count": null,
      "id": "90634f4b",
      "metadata": {
        "id": "90634f4b"
      },
      "outputs": [],
      "source": [
        "new_df = df.sample(30000,random_state=2)"
      ]
    },
    {
      "cell_type": "code",
      "source": [
        "new_df= new_df.iloc[:,:6]"
      ],
      "metadata": {
        "id": "_Pb6loI5JCL5"
      },
      "id": "_Pb6loI5JCL5",
      "execution_count": null,
      "outputs": []
    },
    {
      "cell_type": "code",
      "execution_count": null,
      "id": "8d6a6a42",
      "metadata": {
        "id": "8d6a6a42"
      },
      "outputs": [],
      "source": [
        "new_df.isnull().sum()"
      ]
    },
    {
      "cell_type": "code",
      "execution_count": null,
      "id": "1d931f5b",
      "metadata": {
        "id": "1d931f5b"
      },
      "outputs": [],
      "source": [
        "new_df.head()"
      ]
    },
    {
      "cell_type": "code",
      "execution_count": null,
      "id": "9c44581c",
      "metadata": {
        "id": "9c44581c"
      },
      "outputs": [],
      "source": [
        "new_df.isnull().sum()"
      ]
    },
    {
      "cell_type": "code",
      "source": [
        "new_df.dropna(inplace=True)"
      ],
      "metadata": {
        "id": "J1sOlF6VKUb1"
      },
      "id": "J1sOlF6VKUb1",
      "execution_count": null,
      "outputs": []
    },
    {
      "cell_type": "code",
      "source": [
        "new_df.isnull().sum()"
      ],
      "metadata": {
        "id": "t_22YJ7MKh6F"
      },
      "id": "t_22YJ7MKh6F",
      "execution_count": null,
      "outputs": []
    },
    {
      "cell_type": "code",
      "execution_count": null,
      "id": "c4c27d8f",
      "metadata": {
        "id": "c4c27d8f"
      },
      "outputs": [],
      "source": [
        "new_df.duplicated().sum()"
      ]
    },
    {
      "cell_type": "code",
      "execution_count": null,
      "id": "b7863cea",
      "metadata": {
        "id": "b7863cea"
      },
      "outputs": [],
      "source": [
        "# Distribution of duplicate and non-duplicate questions\n",
        "\n",
        "print(new_df['is_duplicate'].value_counts())\n",
        "print((new_df['is_duplicate'].value_counts()/new_df['is_duplicate'].count())*100)\n",
        "new_df['is_duplicate'].value_counts().plot(kind='bar')"
      ]
    },
    {
      "cell_type": "code",
      "execution_count": null,
      "id": "691d9143",
      "metadata": {
        "id": "691d9143"
      },
      "outputs": [],
      "source": [
        "# Repeated questions\n",
        "\n",
        "qid = pd.Series(new_df['qid1'].tolist() + new_df['qid2'].tolist())\n",
        "print('Number of unique questions',np.unique(qid).shape[0])\n",
        "x = qid.value_counts()>1\n",
        "print('Number of questions getting repeated',x[x].shape[0])"
      ]
    },
    {
      "cell_type": "code",
      "execution_count": null,
      "id": "e314640d",
      "metadata": {
        "id": "e314640d"
      },
      "outputs": [],
      "source": [
        "# Repeated questions histogram\n",
        "\n",
        "plt.hist(qid.value_counts().values,bins=160)\n",
        "plt.yscale('log')\n",
        "plt.show()"
      ]
    },
    {
      "cell_type": "code",
      "execution_count": null,
      "id": "dc38a62b",
      "metadata": {
        "id": "dc38a62b"
      },
      "outputs": [],
      "source": [
        "# Feature Engineering\n",
        "\n",
        "new_df['q1_len'] = new_df['question1'].str.len()\n",
        "new_df['q2_len'] = new_df['question2'].str.len()"
      ]
    },
    {
      "cell_type": "code",
      "execution_count": null,
      "id": "bfb29dcd",
      "metadata": {
        "id": "bfb29dcd"
      },
      "outputs": [],
      "source": [
        "new_df.head()"
      ]
    },
    {
      "cell_type": "code",
      "execution_count": null,
      "id": "df3727a6",
      "metadata": {
        "id": "df3727a6"
      },
      "outputs": [],
      "source": [
        "new_df['q1_num_words'] = new_df['question1'].apply(lambda row: len(row.split(\" \")))\n",
        "new_df['q2_num_words'] = new_df['question2'].apply(lambda row: len(row.split(\" \")))\n",
        "new_df.head()"
      ]
    },
    {
      "cell_type": "code",
      "execution_count": null,
      "id": "193c460f",
      "metadata": {
        "id": "193c460f"
      },
      "outputs": [],
      "source": [
        "def common_words(row):\n",
        "    w1 = set(map(lambda word: word.lower().strip(), row['question1'].split(\" \")))\n",
        "    w2 = set(map(lambda word: word.lower().strip(), row['question2'].split(\" \")))\n",
        "    return len(w1 & w2)"
      ]
    },
    {
      "cell_type": "code",
      "execution_count": null,
      "id": "47ea1118",
      "metadata": {
        "id": "47ea1118"
      },
      "outputs": [],
      "source": [
        "new_df['word_common'] = new_df.apply(common_words, axis=1)\n",
        "new_df.head()"
      ]
    },
    {
      "cell_type": "code",
      "execution_count": null,
      "id": "87729813",
      "metadata": {
        "id": "87729813"
      },
      "outputs": [],
      "source": [
        "def total_words(row):\n",
        "    w1 = set(map(lambda word: word.lower().strip(), row['question1'].split(\" \")))\n",
        "    w2 = set(map(lambda word: word.lower().strip(), row['question2'].split(\" \")))\n",
        "    return (len(w1) + len(w2))"
      ]
    },
    {
      "cell_type": "code",
      "execution_count": null,
      "id": "0f04346e",
      "metadata": {
        "id": "0f04346e"
      },
      "outputs": [],
      "source": [
        "new_df['word_total'] = new_df.apply(total_words, axis=1)\n",
        "new_df.head()"
      ]
    },
    {
      "cell_type": "code",
      "execution_count": null,
      "id": "677c7db3",
      "metadata": {
        "id": "677c7db3"
      },
      "outputs": [],
      "source": [
        "new_df['word_share'] = round(new_df['word_common']/new_df['word_total'],2)\n",
        "new_df.head()"
      ]
    },
    {
      "cell_type": "code",
      "execution_count": null,
      "id": "5aa336c7",
      "metadata": {
        "id": "5aa336c7"
      },
      "outputs": [],
      "source": [
        "# Analysis of features\n",
        "sns.displot(new_df['q1_len'])\n",
        "print('minimum characters',new_df['q1_len'].min())\n",
        "print('maximum characters',new_df['q1_len'].max())\n",
        "print('average num of characters',int(new_df['q1_len'].mean()))"
      ]
    },
    {
      "cell_type": "code",
      "execution_count": null,
      "id": "40bbfcc2",
      "metadata": {
        "id": "40bbfcc2"
      },
      "outputs": [],
      "source": [
        "sns.displot(new_df['q2_len'])\n",
        "print('minimum characters',new_df['q2_len'].min())\n",
        "print('maximum characters',new_df['q2_len'].max())\n",
        "print('average num of characters',int(new_df['q2_len'].mean()))"
      ]
    },
    {
      "cell_type": "code",
      "execution_count": null,
      "id": "e3eb90a4",
      "metadata": {
        "id": "e3eb90a4"
      },
      "outputs": [],
      "source": [
        "sns.displot(new_df['q1_num_words'])\n",
        "print('minimum words',new_df['q1_num_words'].min())\n",
        "print('maximum words',new_df['q1_num_words'].max())\n",
        "print('average num of words',int(new_df['q1_num_words'].mean()))"
      ]
    },
    {
      "cell_type": "code",
      "execution_count": null,
      "id": "ca7b45ec",
      "metadata": {
        "id": "ca7b45ec"
      },
      "outputs": [],
      "source": [
        "sns.displot(new_df['q2_num_words'])\n",
        "print('minimum words',new_df['q2_num_words'].min())\n",
        "print('maximum words',new_df['q2_num_words'].max())\n",
        "print('average num of words',int(new_df['q2_num_words'].mean()))"
      ]
    },
    {
      "cell_type": "code",
      "execution_count": null,
      "id": "01f7afe3",
      "metadata": {
        "id": "01f7afe3"
      },
      "outputs": [],
      "source": [
        "# common words\n",
        "sns.distplot(new_df[new_df['is_duplicate'] == 0]['word_common'],label='non duplicate')\n",
        "sns.distplot(new_df[new_df['is_duplicate'] == 1]['word_common'],label='duplicate')\n",
        "plt.legend()\n",
        "plt.show()"
      ]
    },
    {
      "cell_type": "code",
      "execution_count": null,
      "id": "85be5cf5",
      "metadata": {
        "id": "85be5cf5"
      },
      "outputs": [],
      "source": [
        "# total words\n",
        "sns.distplot(new_df[new_df['is_duplicate'] == 0]['word_total'],label='non duplicate')\n",
        "sns.distplot(new_df[new_df['is_duplicate'] == 1]['word_total'],label='duplicate')\n",
        "plt.legend()\n",
        "plt.show()"
      ]
    },
    {
      "cell_type": "code",
      "execution_count": null,
      "id": "94d5e0ea",
      "metadata": {
        "id": "94d5e0ea"
      },
      "outputs": [],
      "source": [
        "# word share\n",
        "sns.distplot(new_df[new_df['is_duplicate'] == 0]['word_share'],label='non duplicate')\n",
        "sns.distplot(new_df[new_df['is_duplicate'] == 1]['word_share'],label='duplicate')\n",
        "plt.legend()\n",
        "plt.show()"
      ]
    },
    {
      "cell_type": "code",
      "execution_count": null,
      "id": "e7690b8c",
      "metadata": {
        "id": "e7690b8c"
      },
      "outputs": [],
      "source": [
        "ques_df = new_df[['question1','question2']]\n",
        "ques_df.head()"
      ]
    },
    {
      "cell_type": "code",
      "execution_count": null,
      "id": "b9ae4a4c",
      "metadata": {
        "id": "b9ae4a4c"
      },
      "outputs": [],
      "source": [
        "final_df = new_df.drop(columns=['id','qid1','qid2','question1','question2'])\n",
        "print(final_df.shape)\n",
        "final_df.head()"
      ]
    },
    {
      "cell_type": "code",
      "execution_count": null,
      "id": "e6338858",
      "metadata": {
        "id": "e6338858"
      },
      "outputs": [],
      "source": [
        "from sklearn.feature_extraction.text import CountVectorizer\n",
        "# merge texts\n",
        "questions = list(ques_df['question1']) + list(ques_df['question2'])\n",
        "\n",
        "cv = CountVectorizer(max_features=3000)\n",
        "q1_arr, q2_arr = np.vsplit(cv.fit_transform(questions).toarray(),2)"
      ]
    },
    {
      "cell_type": "code",
      "execution_count": null,
      "id": "c7be6cec",
      "metadata": {
        "id": "c7be6cec"
      },
      "outputs": [],
      "source": [
        "temp_df1 = pd.DataFrame(q1_arr, index= ques_df.index)\n",
        "temp_df2 = pd.DataFrame(q2_arr, index= ques_df.index)\n",
        "temp_df = pd.concat([temp_df1, temp_df2], axis=1)\n",
        "temp_df.shape"
      ]
    },
    {
      "cell_type": "code",
      "execution_count": null,
      "id": "4b39acb7",
      "metadata": {
        "id": "4b39acb7"
      },
      "outputs": [],
      "source": [
        "final_df = pd.concat([final_df, temp_df], axis=1)\n",
        "print(final_df.shape)\n",
        "final_df.head()"
      ]
    },
    {
      "cell_type": "code",
      "execution_count": null,
      "id": "0b8e20f5",
      "metadata": {
        "id": "0b8e20f5"
      },
      "outputs": [],
      "source": [
        "from sklearn.model_selection import train_test_split\n",
        "X_train,X_test,y_train,y_test = train_test_split(final_df.iloc[:,1:].values,final_df.iloc[:,0].values,test_size=0.2,random_state=1)"
      ]
    },
    {
      "cell_type": "code",
      "execution_count": null,
      "id": "36545ab1",
      "metadata": {
        "id": "36545ab1"
      },
      "outputs": [],
      "source": [
        "from sklearn.ensemble import RandomForestClassifier\n",
        "from sklearn.metrics import accuracy_score\n",
        "rf = RandomForestClassifier()\n",
        "rf.fit(X_train,y_train)\n",
        "y_pred = rf.predict(X_test)\n",
        "accuracy_score(y_test,y_pred)"
      ]
    },
    {
      "cell_type": "code",
      "execution_count": null,
      "id": "16b13c21",
      "metadata": {
        "id": "16b13c21"
      },
      "outputs": [],
      "source": [
        "from xgboost import XGBClassifier\n",
        "xgb = XGBClassifier()\n",
        "xgb.fit(X_train,y_train)\n",
        "y_pred = xgb.predict(X_test)\n",
        "accuracy_score(y_test,y_pred)"
      ]
    },
    {
      "cell_type": "markdown",
      "id": "e12207d2",
      "metadata": {
        "id": "e12207d2"
      },
      "source": [
        "## Advanced Features\n",
        "\n",
        "### 1. Token Features\n",
        "- **cwc_min**: This is the ratio of the number of common words to the length of the smaller question\n",
        "- **cwc_max**: This is the ratio of the number of common words to the length of the larger question\n",
        "- **csc_min**: This is the ratio of the number of common stop words to the smaller stop word count among the two questions\n",
        "- **csc_max**: This is the ratio of the number of common stop words to the larger stop word count among the two questions\n",
        "- **ctc_min**: This is the ratio of the number of common tokens to the smaller token count among the two questions\n",
        "- **ctc_max**: This is the ratio of the number of common tokens to the larger token count among the two questions\n",
        "- **last_word_eq**: 1 if the last word in the two questions is same, 0 otherwise\n",
        "- **first_word_eq**: 1 if the first word in the two questions is same, 0 otherwise\n",
        "\n",
        "### 2. Length Based Features\n",
        "- **mean_len**: Mean of the length of the two questions (number of words)\n",
        "- **abs_len_diff**: Absolute difference between the length of the two questions (number of words)\n",
        "- **longest_substr_ratio**: Ratio of the length of the longest substring among the two questions to the length of the smaller question\n",
        "\n",
        "### 3. Fuzzy Features\n",
        "- **fuzz_ratio**: fuzz_ratio score from fuzzywuzzy\n",
        "- **fuzz_partial_ratio**: fuzz_partial_ratio from fuzzywuzzy\n",
        "- **token_sort_ratio**: token_sort_ratio from fuzzywuzzy\n",
        "- **token_set_ratio**: token_set_ratio from fuzzywuzzy"
      ]
    },
    {
      "cell_type": "code",
      "execution_count": null,
      "id": "6b878af5",
      "metadata": {
        "id": "6b878af5"
      },
      "outputs": [],
      "source": []
    },
    {
      "cell_type": "code",
      "source": [
        "new_question1 = \"How can I lose weight fast?\"\n",
        "new_question2 = \"What are some effective ways to lose weight quickly?\""
      ],
      "metadata": {
        "id": "nVe0fyNEk5q9"
      },
      "id": "nVe0fyNEk5q9",
      "execution_count": null,
      "outputs": []
    },
    {
      "cell_type": "code",
      "source": [
        "# Length features\n",
        "q1_len = len(new_question1)\n",
        "q2_len = len(new_question2)\n",
        "\n",
        "# Word count features\n",
        "q1_num_words = len(new_question1.split())\n",
        "q2_num_words = len(new_question2.split())\n",
        "\n",
        "# Common and total word count\n",
        "def common_words(q1, q2):\n",
        "    w1 = set(q1.lower().split())\n",
        "    w2 = set(q2.lower().split())\n",
        "    return len(w1 & w2)\n",
        "\n",
        "def total_words(q1, q2):\n",
        "    w1 = set(q1.lower().split())\n",
        "    w2 = set(q2.lower().split())\n",
        "    return len(w1) + len(w2)\n",
        "\n",
        "word_common = common_words(new_question1, new_question2)\n",
        "word_total = total_words(new_question1, new_question2)\n",
        "word_share = round(word_common / word_total, 2)\n"
      ],
      "metadata": {
        "id": "Ev1r5CZzk_hd"
      },
      "id": "Ev1r5CZzk_hd",
      "execution_count": null,
      "outputs": []
    },
    {
      "cell_type": "code",
      "source": [
        "# Transforming new questions into BoW format\n",
        "questions = [new_question1, new_question2]\n",
        "\n",
        "# Ensure the same vectorizer used during training is applied\n",
        "q_arr = cv.transform(questions).toarray()\n",
        "\n",
        "# Splitting into two parts for q1 and q2\n",
        "q1_arr, q2_arr = np.vsplit(q_arr, 2)\n",
        "\n",
        "# Converting to DataFrame for consistency\n",
        "temp_df1 = pd.DataFrame(q1_arr)\n",
        "temp_df2 = pd.DataFrame(q2_arr)\n",
        "\n",
        "# Merging the features\n",
        "test_bow_df = pd.concat([temp_df1, temp_df2], axis=1)\n"
      ],
      "metadata": {
        "id": "rWi2MxvDlGaF"
      },
      "id": "rWi2MxvDlGaF",
      "execution_count": null,
      "outputs": []
    }
  ],
  "metadata": {
    "kernelspec": {
      "display_name": "Python 3",
      "language": "python",
      "name": "python3"
    },
    "language_info": {
      "codemirror_mode": {
        "name": "ipython",
        "version": 3
      },
      "file_extension": ".py",
      "mimetype": "text/x-python",
      "name": "python",
      "nbconvert_exporter": "python",
      "pygments_lexer": "ipython3",
      "version": "3.8.8"
    },
    "colab": {
      "provenance": [],
      "include_colab_link": true
    }
  },
  "nbformat": 4,
  "nbformat_minor": 5
}