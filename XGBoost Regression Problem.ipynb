{
 "cells": [
  {
   "cell_type": "code",
   "execution_count": 1,
   "id": "2e7f8624",
   "metadata": {},
   "outputs": [],
   "source": [
    "import pandas as pd\n",
    "import numpy as np\n",
    "from sklearn.model_selection import train_test_split\n",
    "import xgboost as xgb"
   ]
  },
  {
   "cell_type": "code",
   "execution_count": 20,
   "id": "17c4c9c0",
   "metadata": {},
   "outputs": [],
   "source": [
    "\n",
    "y = [\"cgpa\", \"iq\", \"12th_mark\", \"package\"]\n",
    "\n",
    "X = [\n",
    "    [6.82, 118, 70, 4.4],\n",
    "    [6.36, 125, 77, 8.2],\n",
    "    [5.39, 99, 80, 7.3],\n",
    "    [5.50, 106, 90, 9.2],\n",
    "    [6.39, 148, 67, 6.5],\n",
    "    [9.13, 148, 89, 10.2],\n",
    "    [7.17, 147, 85, 7.8],\n",
    "    [8.30, 75, 77, 5.3],\n",
    "    [6.72, 65, 68, 3.2],\n",
    "    [7.72, 72, 64, 4.5]\n",
    "]\n",
    "\n",
    "df = pd.DataFrame(X, columns=y)\n",
    "\n",
    "# Extract features (X) and target variable (y)\n",
    "X = df[['cgpa', 'iq', '12th_mark']]\n",
    "y = df['package']\n",
    "\n",
    "X_train, X_test, y_train, y_test = train_test_split(X, y, test_size=0.2)\n"
   ]
  },
  {
   "cell_type": "code",
   "execution_count": 21,
   "id": "8c38b45a",
   "metadata": {},
   "outputs": [
    {
     "data": {
      "text/html": [
       "<div>\n",
       "<style scoped>\n",
       "    .dataframe tbody tr th:only-of-type {\n",
       "        vertical-align: middle;\n",
       "    }\n",
       "\n",
       "    .dataframe tbody tr th {\n",
       "        vertical-align: top;\n",
       "    }\n",
       "\n",
       "    .dataframe thead th {\n",
       "        text-align: right;\n",
       "    }\n",
       "</style>\n",
       "<table border=\"1\" class=\"dataframe\">\n",
       "  <thead>\n",
       "    <tr style=\"text-align: right;\">\n",
       "      <th></th>\n",
       "      <th>cgpa</th>\n",
       "      <th>iq</th>\n",
       "      <th>12th_mark</th>\n",
       "      <th>package</th>\n",
       "    </tr>\n",
       "  </thead>\n",
       "  <tbody>\n",
       "    <tr>\n",
       "      <th>0</th>\n",
       "      <td>6.82</td>\n",
       "      <td>118</td>\n",
       "      <td>70</td>\n",
       "      <td>4</td>\n",
       "    </tr>\n",
       "    <tr>\n",
       "      <th>1</th>\n",
       "      <td>6.36</td>\n",
       "      <td>125</td>\n",
       "      <td>77</td>\n",
       "      <td>8</td>\n",
       "    </tr>\n",
       "    <tr>\n",
       "      <th>2</th>\n",
       "      <td>5.39</td>\n",
       "      <td>99</td>\n",
       "      <td>80</td>\n",
       "      <td>7</td>\n",
       "    </tr>\n",
       "    <tr>\n",
       "      <th>3</th>\n",
       "      <td>5.50</td>\n",
       "      <td>106</td>\n",
       "      <td>90</td>\n",
       "      <td>9</td>\n",
       "    </tr>\n",
       "    <tr>\n",
       "      <th>4</th>\n",
       "      <td>6.39</td>\n",
       "      <td>148</td>\n",
       "      <td>67</td>\n",
       "      <td>6</td>\n",
       "    </tr>\n",
       "    <tr>\n",
       "      <th>5</th>\n",
       "      <td>9.13</td>\n",
       "      <td>148</td>\n",
       "      <td>89</td>\n",
       "      <td>10</td>\n",
       "    </tr>\n",
       "    <tr>\n",
       "      <th>6</th>\n",
       "      <td>7.17</td>\n",
       "      <td>147</td>\n",
       "      <td>85</td>\n",
       "      <td>7</td>\n",
       "    </tr>\n",
       "    <tr>\n",
       "      <th>7</th>\n",
       "      <td>8.30</td>\n",
       "      <td>75</td>\n",
       "      <td>77</td>\n",
       "      <td>5</td>\n",
       "    </tr>\n",
       "  </tbody>\n",
       "</table>\n",
       "</div>"
      ],
      "text/plain": [
       "   cgpa   iq  12th_mark  package\n",
       "0  6.82  118         70        4\n",
       "1  6.36  125         77        8\n",
       "2  5.39   99         80        7\n",
       "3  5.50  106         90        9\n",
       "4  6.39  148         67        6\n",
       "5  9.13  148         89       10\n",
       "6  7.17  147         85        7\n",
       "7  8.30   75         77        5"
      ]
     },
     "execution_count": 21,
     "metadata": {},
     "output_type": "execute_result"
    }
   ],
   "source": [
    "df"
   ]
  },
  {
   "cell_type": "code",
   "execution_count": 4,
   "id": "d54ef769",
   "metadata": {},
   "outputs": [
    {
     "data": {
      "text/html": [
       "<div>\n",
       "<style scoped>\n",
       "    .dataframe tbody tr th:only-of-type {\n",
       "        vertical-align: middle;\n",
       "    }\n",
       "\n",
       "    .dataframe tbody tr th {\n",
       "        vertical-align: top;\n",
       "    }\n",
       "\n",
       "    .dataframe thead th {\n",
       "        text-align: right;\n",
       "    }\n",
       "</style>\n",
       "<table border=\"1\" class=\"dataframe\">\n",
       "  <thead>\n",
       "    <tr style=\"text-align: right;\">\n",
       "      <th></th>\n",
       "      <th>cgpa</th>\n",
       "      <th>iq</th>\n",
       "      <th>12th_mark</th>\n",
       "    </tr>\n",
       "  </thead>\n",
       "  <tbody>\n",
       "    <tr>\n",
       "      <th>7</th>\n",
       "      <td>8.30</td>\n",
       "      <td>75</td>\n",
       "      <td>77</td>\n",
       "    </tr>\n",
       "    <tr>\n",
       "      <th>1</th>\n",
       "      <td>6.36</td>\n",
       "      <td>125</td>\n",
       "      <td>77</td>\n",
       "    </tr>\n",
       "  </tbody>\n",
       "</table>\n",
       "</div>"
      ],
      "text/plain": [
       "   cgpa   iq  12th_mark\n",
       "7  8.30   75         77\n",
       "1  6.36  125         77"
      ]
     },
     "execution_count": 4,
     "metadata": {},
     "output_type": "execute_result"
    }
   ],
   "source": [
    "X_test"
   ]
  },
  {
   "cell_type": "code",
   "execution_count": 5,
   "id": "d53b8d41",
   "metadata": {},
   "outputs": [
    {
     "data": {
      "text/plain": [
       "8     3\n",
       "6     7\n",
       "4     6\n",
       "2     7\n",
       "5    10\n",
       "3     9\n",
       "9     4\n",
       "0     4\n",
       "Name: package, dtype: int64"
      ]
     },
     "execution_count": 5,
     "metadata": {},
     "output_type": "execute_result"
    }
   ],
   "source": [
    "y_train"
   ]
  },
  {
   "cell_type": "code",
   "execution_count": 6,
   "id": "5678a5b8",
   "metadata": {},
   "outputs": [
    {
     "data": {
      "text/plain": [
       "7    5\n",
       "1    8\n",
       "Name: package, dtype: int64"
      ]
     },
     "execution_count": 6,
     "metadata": {},
     "output_type": "execute_result"
    }
   ],
   "source": [
    "y_test"
   ]
  },
  {
   "cell_type": "code",
   "execution_count": 7,
   "id": "d228581b",
   "metadata": {},
   "outputs": [],
   "source": [
    "reg = xgb.XGBRegressor(n_estimators=50,learning_rate =0.5)"
   ]
  },
  {
   "cell_type": "code",
   "execution_count": 8,
   "id": "402cd2ba",
   "metadata": {},
   "outputs": [],
   "source": [
    "reg1 = reg.fit(X_train, y_train)"
   ]
  },
  {
   "cell_type": "code",
   "execution_count": 9,
   "id": "11ae2bd4",
   "metadata": {},
   "outputs": [
    {
     "name": "stdout",
     "output_type": "stream",
     "text": [
      "7    5\n",
      "1    8\n",
      "Name: package, dtype: int64\n",
      "[4.000183 5.9992  ]\n"
     ]
    }
   ],
   "source": [
    "y_xgb_pred = reg.predict(X_test)\n",
    "print(y_test)\n",
    "print(y_xgb_pred)"
   ]
  },
  {
   "cell_type": "code",
   "execution_count": 10,
   "id": "20c8bea0",
   "metadata": {},
   "outputs": [
    {
     "data": {
      "image/png": "[encoded data removed]",
      "text/plain": [
       "<Figure size 1000x500 with 1 Axes>"
      ]
     },
     "metadata": {},
     "output_type": "display_data"
    }
   ],
   "source": [
    "import matplotlib.pyplot as plt\n",
    "\n",
    "plt.figure(figsize=(10, 5))\n",
    "plt.scatter(y_test, y_xgb_pred)\n",
    "plt.plot([y_test.min(), y_test.max()], [y_test.min(), y_test.max()], color='red', linewidth=2)\n",
    "plt.xlabel('True Values')\n",
    "plt.ylabel('Predicted Values')\n",
    "plt.title('True vs Predicted Values')\n",
    "plt.show()"
   ]
  },
  {
   "cell_type": "code",
   "execution_count": 16,
   "id": "4e5e96c7",
   "metadata": {},
   "outputs": [
    {
     "name": "stdout",
     "output_type": "stream",
     "text": [
      "Mean Absolute Error: 1.5003085136413574\n",
      "Mean Squared Error: 2.501417496904196\n"
     ]
    }
   ],
   "source": [
    "from sklearn.metrics import mean_absolute_error, mean_squared_error,accuracy_score\n",
    "# Calculate MAE\n",
    "mae = mean_absolute_error(y_test, y_xgb_pred)\n",
    "print('Mean Absolute Error:', mae)\n",
    "\n",
    "# Calculate MSE\n",
    "mse = mean_squared_error(y_test, y_xgb_pred)\n",
    "print('Mean Squared Error:', mse)"
   ]
  },
  {
   "cell_type": "code",
   "execution_count": null,
   "id": "9971cca2",
   "metadata": {},
   "outputs": [],
   "source": [
    "df[\"model1\"] = np.sum(df[\"package\"])/10"
   ]
  },
  {
   "cell_type": "code",
   "execution_count": 17,
   "id": "f33d3951",
   "metadata": {},
   "outputs": [
    {
     "data": {
      "text/html": [
       "<div>\n",
       "<style scoped>\n",
       "    .dataframe tbody tr th:only-of-type {\n",
       "        vertical-align: middle;\n",
       "    }\n",
       "\n",
       "    .dataframe tbody tr th {\n",
       "        vertical-align: top;\n",
       "    }\n",
       "\n",
       "    .dataframe thead th {\n",
       "        text-align: right;\n",
       "    }\n",
       "</style>\n",
       "<table border=\"1\" class=\"dataframe\">\n",
       "  <thead>\n",
       "    <tr style=\"text-align: right;\">\n",
       "      <th></th>\n",
       "      <th>cgpa</th>\n",
       "      <th>iq</th>\n",
       "      <th>12th_mark</th>\n",
       "      <th>package</th>\n",
       "    </tr>\n",
       "  </thead>\n",
       "  <tbody>\n",
       "    <tr>\n",
       "      <th>0</th>\n",
       "      <td>6.82</td>\n",
       "      <td>118</td>\n",
       "      <td>70</td>\n",
       "      <td>4</td>\n",
       "    </tr>\n",
       "    <tr>\n",
       "      <th>1</th>\n",
       "      <td>6.36</td>\n",
       "      <td>125</td>\n",
       "      <td>77</td>\n",
       "      <td>8</td>\n",
       "    </tr>\n",
       "    <tr>\n",
       "      <th>2</th>\n",
       "      <td>5.39</td>\n",
       "      <td>99</td>\n",
       "      <td>80</td>\n",
       "      <td>7</td>\n",
       "    </tr>\n",
       "    <tr>\n",
       "      <th>3</th>\n",
       "      <td>5.50</td>\n",
       "      <td>106</td>\n",
       "      <td>90</td>\n",
       "      <td>9</td>\n",
       "    </tr>\n",
       "    <tr>\n",
       "      <th>4</th>\n",
       "      <td>6.39</td>\n",
       "      <td>148</td>\n",
       "      <td>67</td>\n",
       "      <td>6</td>\n",
       "    </tr>\n",
       "    <tr>\n",
       "      <th>5</th>\n",
       "      <td>9.13</td>\n",
       "      <td>148</td>\n",
       "      <td>89</td>\n",
       "      <td>10</td>\n",
       "    </tr>\n",
       "    <tr>\n",
       "      <th>6</th>\n",
       "      <td>7.17</td>\n",
       "      <td>147</td>\n",
       "      <td>85</td>\n",
       "      <td>7</td>\n",
       "    </tr>\n",
       "    <tr>\n",
       "      <th>7</th>\n",
       "      <td>8.30</td>\n",
       "      <td>75</td>\n",
       "      <td>77</td>\n",
       "      <td>5</td>\n",
       "    </tr>\n",
       "    <tr>\n",
       "      <th>8</th>\n",
       "      <td>6.72</td>\n",
       "      <td>65</td>\n",
       "      <td>68</td>\n",
       "      <td>3</td>\n",
       "    </tr>\n",
       "    <tr>\n",
       "      <th>9</th>\n",
       "      <td>7.72</td>\n",
       "      <td>72</td>\n",
       "      <td>64</td>\n",
       "      <td>4</td>\n",
       "    </tr>\n",
       "  </tbody>\n",
       "</table>\n",
       "</div>"
      ],
      "text/plain": [
       "   cgpa   iq  12th_mark  package\n",
       "0  6.82  118         70        4\n",
       "1  6.36  125         77        8\n",
       "2  5.39   99         80        7\n",
       "3  5.50  106         90        9\n",
       "4  6.39  148         67        6\n",
       "5  9.13  148         89       10\n",
       "6  7.17  147         85        7\n",
       "7  8.30   75         77        5\n",
       "8  6.72   65         68        3\n",
       "9  7.72   72         64        4"
      ]
     },
     "execution_count": 17,
     "metadata": {},
     "output_type": "execute_result"
    }
   ],
   "source": [
    "df"
   ]
  },
  {
   "cell_type": "code",
   "execution_count": null,
   "id": "b44b3a08",
   "metadata": {},
   "outputs": [],
   "source": [
    "df[\"res1\"] = df[\"package\"] -df[\"model1\"]"
   ]
  },
  {
   "cell_type": "markdown",
   "id": "e0529a4b",
   "metadata": {},
   "source": [
    "# res1 = actual - predicted"
   ]
  },
  {
   "cell_type": "code",
   "execution_count": null,
   "id": "cf5e7acb",
   "metadata": {},
   "outputs": [],
   "source": [
    "df"
   ]
  },
  {
   "cell_type": "markdown",
   "id": "b7c9bf02",
   "metadata": {},
   "source": [
    "# similarity score for res1 =   (sum of residuals)^2/(no.of residuals + 0)"
   ]
  },
  {
   "cell_type": "code",
   "execution_count": null,
   "id": "275600f7",
   "metadata": {},
   "outputs": [],
   "source": [
    "ss_res1 = np.square(np.sum(df[\"res1\"]))/10"
   ]
  },
  {
   "cell_type": "code",
   "execution_count": null,
   "id": "6546e780",
   "metadata": {},
   "outputs": [],
   "source": [
    "ss_res1"
   ]
  },
  {
   "cell_type": "code",
   "execution_count": null,
   "id": "85e6debb",
   "metadata": {},
   "outputs": [],
   "source": []
  }
 ],
 "metadata": {
  "kernelspec": {
   "display_name": "Python 3 (ipykernel)",
   "language": "python",
   "name": "python3"
  },
  "language_info": {
   "codemirror_mode": {
    "name": "ipython",
    "version": 3
   },
   "file_extension": ".py",
   "mimetype": "text/x-python",
   "name": "python",
   "nbconvert_exporter": "python",
   "pygments_lexer": "ipython3",
   "version": "3.11.2"
  }
 },
 "nbformat": 4,
 "nbformat_minor": 5
}
