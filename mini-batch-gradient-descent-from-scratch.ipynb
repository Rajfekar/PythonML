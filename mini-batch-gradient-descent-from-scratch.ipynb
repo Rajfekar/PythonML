{
  "cells": [
    {
      "cell_type": "markdown",
      "metadata": {
        "id": "view-in-github",
        "colab_type": "text"
      },
      "source": [
        "<a href=\"https://colab.research.google.com/github/Rajfekar/PythonML/blob/main/mini-batch-gradient-descent-from-scratch.ipynb\" target=\"_parent\"><img src=\"https://colab.research.google.com/assets/colab-badge.svg\" alt=\"Open In Colab\"/></a>"
      ]
    },
    {
      "cell_type": "code",
      "execution_count": null,
      "id": "e1d1b3f6",
      "metadata": {
        "id": "e1d1b3f6"
      },
      "outputs": [],
      "source": [
        "from sklearn.datasets import load_diabetes\n",
        "\n",
        "import numpy as np\n",
        "from sklearn.linear_model import LinearRegression\n",
        "from sklearn.metrics import r2_score\n",
        "from sklearn.model_selection import train_test_split"
      ]
    },
    {
      "cell_type": "code",
      "execution_count": null,
      "id": "84500f46",
      "metadata": {
        "id": "84500f46"
      },
      "outputs": [],
      "source": [
        "X,y = load_diabetes(return_X_y=True)"
      ]
    },
    {
      "cell_type": "code",
      "execution_count": null,
      "id": "5ef471cc",
      "metadata": {
        "id": "5ef471cc",
        "outputId": "df674349-d88d-44aa-f639-1653f68a8dac"
      },
      "outputs": [
        {
          "name": "stdout",
          "output_type": "stream",
          "text": [
            "(442, 10)\n",
            "(442,)\n"
          ]
        }
      ],
      "source": [
        "print(X.shape)\n",
        "print(y.shape)"
      ]
    },
    {
      "cell_type": "code",
      "execution_count": null,
      "id": "01ebedbc",
      "metadata": {
        "id": "01ebedbc"
      },
      "outputs": [],
      "source": [
        "X_train,X_test,y_train,y_test = train_test_split(X,y,test_size=0.2,random_state=2)"
      ]
    },
    {
      "cell_type": "code",
      "execution_count": null,
      "id": "3ab37e5e",
      "metadata": {
        "id": "3ab37e5e",
        "outputId": "fcd9fbf4-e54d-4211-c67d-f114bcc6cc86"
      },
      "outputs": [
        {
          "data": {
            "text/plain": [
              "LinearRegression()"
            ]
          },
          "execution_count": 42,
          "metadata": {},
          "output_type": "execute_result"
        }
      ],
      "source": [
        "reg = LinearRegression()\n",
        "reg.fit(X_train,y_train)"
      ]
    },
    {
      "cell_type": "code",
      "execution_count": null,
      "id": "b0460e00",
      "metadata": {
        "id": "b0460e00",
        "outputId": "4607fae2-594d-4b75-9bc6-6f822930d770"
      },
      "outputs": [
        {
          "name": "stdout",
          "output_type": "stream",
          "text": [
            "[  -9.16088483 -205.46225988  516.68462383  340.62734108 -895.54360867\n",
            "  561.21453306  153.88478595  126.73431596  861.12139955   52.41982836]\n",
            "151.88334520854633\n"
          ]
        }
      ],
      "source": [
        "print(reg.coef_)\n",
        "print(reg.intercept_)"
      ]
    },
    {
      "cell_type": "code",
      "execution_count": null,
      "id": "5c4104dd",
      "metadata": {
        "id": "5c4104dd",
        "outputId": "e6aa912b-dd56-4ace-caa7-e5e82a76a3e2"
      },
      "outputs": [
        {
          "data": {
            "text/plain": [
              "0.4399387660024645"
            ]
          },
          "execution_count": 44,
          "metadata": {},
          "output_type": "execute_result"
        }
      ],
      "source": [
        "y_pred = reg.predict(X_test)\n",
        "r2_score(y_test,y_pred)"
      ]
    },
    {
      "cell_type": "code",
      "execution_count": null,
      "id": "4d92f6d3",
      "metadata": {
        "id": "4d92f6d3"
      },
      "outputs": [],
      "source": [
        "import random\n",
        "\n",
        "class MBGDRegressor:\n",
        "\n",
        "    def __init__(self,batch_size,learning_rate=0.01,epochs=100):\n",
        "\n",
        "        self.coef_ = None\n",
        "        self.intercept_ = None\n",
        "        self.lr = learning_rate\n",
        "        self.epochs = epochs\n",
        "        self.batch_size = batch_size\n",
        "\n",
        "    def fit(self,X_train,y_train):\n",
        "        # init your coefs\n",
        "        self.intercept_ = 0\n",
        "        self.coef_ = np.ones(X_train.shape[1])\n",
        "\n",
        "        for i in range(self.epochs):\n",
        "\n",
        "            for j in range(int(X_train.shape[0]/self.batch_size)):\n",
        "\n",
        "                idx = random.sample(range(X_train.shape[0]),self.batch_size)\n",
        "\n",
        "                y_hat = np.dot(X_train[idx],self.coef_) + self.intercept_\n",
        "                #print(\"Shape of y_hat\",y_hat.shape)\n",
        "                intercept_der = -2 * np.mean(y_train[idx] - y_hat)\n",
        "                self.intercept_ = self.intercept_ - (self.lr * intercept_der)\n",
        "\n",
        "                coef_der = -2 * np.dot((y_train[idx] - y_hat),X_train[idx])\n",
        "                self.coef_ = self.coef_ - (self.lr * coef_der)\n",
        "\n",
        "        print(self.intercept_,self.coef_)\n",
        "\n",
        "    def predict(self,X_test):\n",
        "        return np.dot(X_test,self.coef_) + self.intercept_"
      ]
    },
    {
      "cell_type": "code",
      "execution_count": null,
      "id": "99078906",
      "metadata": {
        "id": "99078906"
      },
      "outputs": [],
      "source": [
        "mbr = MBGDRegressor(batch_size=int(X_train.shape[0]/50),learning_rate=0.01,epochs=100)"
      ]
    },
    {
      "cell_type": "code",
      "execution_count": null,
      "id": "dc4e8574",
      "metadata": {
        "id": "dc4e8574",
        "outputId": "f6fc17e6-3009-4823-98ac-5933e9876a34"
      },
      "outputs": [
        {
          "name": "stdout",
          "output_type": "stream",
          "text": [
            "154.83742294704174 [  38.40848324 -142.67633481  457.28746444  303.60926403  -17.99961807\n",
            "  -85.81943788 -192.04933133  116.18528414  407.24722272  105.8082595 ]\n"
          ]
        }
      ],
      "source": [
        "mbr.fit(X_train,y_train)"
      ]
    },
    {
      "cell_type": "code",
      "execution_count": null,
      "id": "d32d9fef",
      "metadata": {
        "id": "d32d9fef"
      },
      "outputs": [],
      "source": [
        "y_pred = mbr.predict(X_test)"
      ]
    },
    {
      "cell_type": "code",
      "execution_count": null,
      "id": "905a915d",
      "metadata": {
        "id": "905a915d",
        "outputId": "699c3e67-321e-4cbe-9979-579a4083b9ac"
      },
      "outputs": [
        {
          "data": {
            "text/plain": [
              "0.4518861449568681"
            ]
          },
          "execution_count": 82,
          "metadata": {},
          "output_type": "execute_result"
        }
      ],
      "source": [
        "r2_score(y_test,y_pred)"
      ]
    },
    {
      "cell_type": "code",
      "execution_count": null,
      "id": "a48ecad9",
      "metadata": {
        "id": "a48ecad9"
      },
      "outputs": [],
      "source": [
        "from sklearn.linear_model import SGDRegressor"
      ]
    },
    {
      "cell_type": "code",
      "execution_count": null,
      "id": "cc4d285f",
      "metadata": {
        "id": "cc4d285f"
      },
      "outputs": [],
      "source": [
        "sgd = SGDRegressor(learning_rate='constant',eta0=0.1)"
      ]
    },
    {
      "cell_type": "code",
      "execution_count": null,
      "id": "23b8a8be",
      "metadata": {
        "id": "23b8a8be"
      },
      "outputs": [],
      "source": [
        "batch_size = 35\n",
        "\n",
        "for i in range(100):\n",
        "\n",
        "    idx = random.sample(range(X_train.shape[0]),batch_size)\n",
        "    sgd.partial_fit(X_train[idx],y_train[idx])"
      ]
    },
    {
      "cell_type": "code",
      "execution_count": null,
      "id": "9827c50a",
      "metadata": {
        "id": "9827c50a",
        "outputId": "146cfb16-c0cf-45e7-edf6-0765b44fef97"
      },
      "outputs": [
        {
          "data": {
            "text/plain": [
              "array([  49.19545821,  -67.84533938,  338.57819421,  247.97315609,\n",
              "         25.30849249,  -24.71685159, -155.45845777,  116.19331239,\n",
              "        312.91250811,  133.36595993])"
            ]
          },
          "execution_count": 134,
          "metadata": {},
          "output_type": "execute_result"
        }
      ],
      "source": [
        "sgd.coef_"
      ]
    },
    {
      "cell_type": "code",
      "execution_count": null,
      "id": "bf5ae439",
      "metadata": {
        "id": "bf5ae439",
        "outputId": "8d6e5612-d2ec-4efb-f499-65f216d7cf60"
      },
      "outputs": [
        {
          "data": {
            "text/plain": [
              "array([148.61489911])"
            ]
          },
          "execution_count": 135,
          "metadata": {},
          "output_type": "execute_result"
        }
      ],
      "source": [
        "sgd.intercept_"
      ]
    },
    {
      "cell_type": "code",
      "execution_count": null,
      "id": "df9c2619",
      "metadata": {
        "id": "df9c2619"
      },
      "outputs": [],
      "source": [
        "y_pred = sgd.predict(X_test)"
      ]
    },
    {
      "cell_type": "code",
      "execution_count": null,
      "id": "ab5ea374",
      "metadata": {
        "id": "ab5ea374",
        "outputId": "f1d8fd1d-abe3-44c8-a83c-02f4f457ea8e"
      },
      "outputs": [
        {
          "data": {
            "text/plain": [
              "0.4271789125617129"
            ]
          },
          "execution_count": 137,
          "metadata": {},
          "output_type": "execute_result"
        }
      ],
      "source": [
        "r2_score(y_test,y_pred)"
      ]
    },
    {
      "cell_type": "code",
      "execution_count": null,
      "id": "8b8d5010",
      "metadata": {
        "id": "8b8d5010"
      },
      "outputs": [],
      "source": []
    },
    {
      "cell_type": "code",
      "execution_count": null,
      "id": "d213087b",
      "metadata": {
        "id": "d213087b"
      },
      "outputs": [],
      "source": []
    }
  ],
  "metadata": {
    "kernelspec": {
      "display_name": "Python 3",
      "language": "python",
      "name": "python3"
    },
    "language_info": {
      "codemirror_mode": {
        "name": "ipython",
        "version": 3
      },
      "file_extension": ".py",
      "mimetype": "text/x-python",
      "name": "python",
      "nbconvert_exporter": "python",
      "pygments_lexer": "ipython3",
      "version": "3.8.8"
    },
    "colab": {
      "provenance": [],
      "include_colab_link": true
    }
  },
  "nbformat": 4,
  "nbformat_minor": 5
}